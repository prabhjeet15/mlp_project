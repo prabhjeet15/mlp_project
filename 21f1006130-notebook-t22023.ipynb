{
 "cells": [
  {
   "cell_type": "code",
   "execution_count": 1,
   "id": "5e8bd4bf",
   "metadata": {
    "_cell_guid": "b1076dfc-b9ad-4769-8c92-a6c4dae69d19",
    "_uuid": "8f2839f25d086af736a60e9eeb907d3b93b6e0e5",
    "execution": {
     "iopub.execute_input": "2023-09-04T16:49:01.103001Z",
     "iopub.status.busy": "2023-09-04T16:49:01.102517Z",
     "iopub.status.idle": "2023-09-04T16:49:01.119447Z",
     "shell.execute_reply": "2023-09-04T16:49:01.117826Z"
    },
    "papermill": {
     "duration": 0.039112,
     "end_time": "2023-09-04T16:49:01.122183",
     "exception": false,
     "start_time": "2023-09-04T16:49:01.083071",
     "status": "completed"
    },
    "tags": []
   },
   "outputs": [
    {
     "name": "stdout",
     "output_type": "stream",
     "text": [
      "/kaggle/input/sentiment-prediction-on-movie-reviews/movies.csv\n",
      "/kaggle/input/sentiment-prediction-on-movie-reviews/sample.csv\n",
      "/kaggle/input/sentiment-prediction-on-movie-reviews/train.csv\n",
      "/kaggle/input/sentiment-prediction-on-movie-reviews/test.csv\n"
     ]
    }
   ],
   "source": [
    "# This Python 3 environment comes with many helpful analytics libraries installed\n",
    "# It is defined by the kaggle/python Docker image: https://github.com/kaggle/docker-python\n",
    "# For example, here's several helpful packages to load\n",
    "\n",
    "import numpy as np # linear algebra\n",
    "import pandas as pd # data processing, CSV file I/O (e.g. pd.read_csv)\n",
    "\n",
    "# Input data files are available in the read-only \"../input/\" directory\n",
    "# For example, running this (by clicking run or pressing Shift+Enter) will list all files under the input directory\n",
    "\n",
    "import os\n",
    "for dirname, _, filenames in os.walk('/kaggle/input'):\n",
    "    for filename in filenames:\n",
    "        print(os.path.join(dirname, filename))\n",
    "\n",
    "# You can write up to 20GB to the current directory (/kaggle/working/) that gets preserved as output when you create a version using \"Save & Run All\" \n",
    "# You can also write temporary files to /kaggle/temp/, but they won't be saved outside of the current session"
   ]
  },
  {
   "cell_type": "markdown",
   "id": "3836071d",
   "metadata": {
    "papermill": {
     "duration": 0.016718,
     "end_time": "2023-09-04T16:49:01.156011",
     "exception": false,
     "start_time": "2023-09-04T16:49:01.139293",
     "status": "completed"
    },
    "tags": []
   },
   "source": [
    "# <u>Glimpse of Movies Dataset"
   ]
  },
  {
   "cell_type": "markdown",
   "id": "40a11439",
   "metadata": {
    "papermill": {
     "duration": 0.015945,
     "end_time": "2023-09-04T16:49:01.188263",
     "exception": false,
     "start_time": "2023-09-04T16:49:01.172318",
     "status": "completed"
    },
    "tags": []
   },
   "source": [
    "> <h4><b><u>.head()</b></u> displays the first few rows of the DataFrame, allowing us to quickly inspect the data and get an idea of what it looks like. This is often used as a quick way to check the structure and content of a DataFrame when working with large datasets.</h4>"
   ]
  },
  {
   "cell_type": "code",
   "execution_count": 2,
   "id": "71558bbc",
   "metadata": {
    "execution": {
     "iopub.execute_input": "2023-09-04T16:49:01.223993Z",
     "iopub.status.busy": "2023-09-04T16:49:01.223544Z",
     "iopub.status.idle": "2023-09-04T16:49:02.476408Z",
     "shell.execute_reply": "2023-09-04T16:49:02.475168Z"
    },
    "papermill": {
     "duration": 1.274142,
     "end_time": "2023-09-04T16:49:02.479316",
     "exception": false,
     "start_time": "2023-09-04T16:49:01.205174",
     "status": "completed"
    },
    "tags": []
   },
   "outputs": [
    {
     "data": {
      "text/html": [
       "<div>\n",
       "<style scoped>\n",
       "    .dataframe tbody tr th:only-of-type {\n",
       "        vertical-align: middle;\n",
       "    }\n",
       "\n",
       "    .dataframe tbody tr th {\n",
       "        vertical-align: top;\n",
       "    }\n",
       "\n",
       "    .dataframe thead th {\n",
       "        text-align: right;\n",
       "    }\n",
       "</style>\n",
       "<table border=\"1\" class=\"dataframe\">\n",
       "  <thead>\n",
       "    <tr style=\"text-align: right;\">\n",
       "      <th></th>\n",
       "      <th>movieid</th>\n",
       "      <th>title</th>\n",
       "      <th>audienceScore</th>\n",
       "      <th>rating</th>\n",
       "      <th>ratingContents</th>\n",
       "      <th>releaseDateTheaters</th>\n",
       "      <th>releaseDateStreaming</th>\n",
       "      <th>runtimeMinutes</th>\n",
       "      <th>genre</th>\n",
       "      <th>originalLanguage</th>\n",
       "      <th>director</th>\n",
       "      <th>boxOffice</th>\n",
       "      <th>distributor</th>\n",
       "      <th>soundType</th>\n",
       "    </tr>\n",
       "  </thead>\n",
       "  <tbody>\n",
       "    <tr>\n",
       "      <th>0</th>\n",
       "      <td>han_solo_heroic_myth_wonder_woman</td>\n",
       "      <td>Han Solo Heroic Myth Wonder Woman</td>\n",
       "      <td>50.0</td>\n",
       "      <td>NaN</td>\n",
       "      <td>NaN</td>\n",
       "      <td>NaN</td>\n",
       "      <td>2018-08-25</td>\n",
       "      <td>75.0</td>\n",
       "      <td>Comedy, Horror, Sci-fi</td>\n",
       "      <td>English</td>\n",
       "      <td>Claude Nicolet</td>\n",
       "      <td>NaN</td>\n",
       "      <td>NaN</td>\n",
       "      <td>NaN</td>\n",
       "    </tr>\n",
       "    <tr>\n",
       "      <th>1</th>\n",
       "      <td>voyage_tyler_durden_han_solo_stardust</td>\n",
       "      <td>Voyage Tyler Durden Han Solo Stardust</td>\n",
       "      <td>NaN</td>\n",
       "      <td>NaN</td>\n",
       "      <td>NaN</td>\n",
       "      <td>NaN</td>\n",
       "      <td>2020-02-11</td>\n",
       "      <td>114.0</td>\n",
       "      <td>Drama</td>\n",
       "      <td>English</td>\n",
       "      <td>Nathan Haack</td>\n",
       "      <td>NaN</td>\n",
       "      <td>NaN</td>\n",
       "      <td>NaN</td>\n",
       "    </tr>\n",
       "    <tr>\n",
       "      <th>2</th>\n",
       "      <td>norman_bates_ferris_bueller_hermione_granger_v...</td>\n",
       "      <td>Norman Bates Ferris Bueller Hermione Granger V...</td>\n",
       "      <td>43.0</td>\n",
       "      <td>NaN</td>\n",
       "      <td>NaN</td>\n",
       "      <td>NaN</td>\n",
       "      <td>NaN</td>\n",
       "      <td>120.0</td>\n",
       "      <td>Drama</td>\n",
       "      <td>Korean</td>\n",
       "      <td>Theresa Smith</td>\n",
       "      <td>NaN</td>\n",
       "      <td>NaN</td>\n",
       "      <td>NaN</td>\n",
       "    </tr>\n",
       "    <tr>\n",
       "      <th>3</th>\n",
       "      <td>elegant_hermione_granger</td>\n",
       "      <td>Elegant Hermione Granger</td>\n",
       "      <td>60.0</td>\n",
       "      <td>NaN</td>\n",
       "      <td>NaN</td>\n",
       "      <td>NaN</td>\n",
       "      <td>2020-10-23</td>\n",
       "      <td>90.0</td>\n",
       "      <td>Action, Mystery &amp; thriller</td>\n",
       "      <td>English</td>\n",
       "      <td>Donald Lewis</td>\n",
       "      <td>NaN</td>\n",
       "      <td>NaN</td>\n",
       "      <td>NaN</td>\n",
       "    </tr>\n",
       "    <tr>\n",
       "      <th>4</th>\n",
       "      <td>adventure_rocky_balboa</td>\n",
       "      <td>Adventure Rocky Balboa</td>\n",
       "      <td>70.0</td>\n",
       "      <td>NaN</td>\n",
       "      <td>NaN</td>\n",
       "      <td>NaN</td>\n",
       "      <td>2017-03-27</td>\n",
       "      <td>80.0</td>\n",
       "      <td>Fantasy, Adventure, Animation</td>\n",
       "      <td>English</td>\n",
       "      <td>Howard Simms</td>\n",
       "      <td>NaN</td>\n",
       "      <td>NaN</td>\n",
       "      <td>NaN</td>\n",
       "    </tr>\n",
       "  </tbody>\n",
       "</table>\n",
       "</div>"
      ],
      "text/plain": [
       "                                             movieid  \\\n",
       "0                  han_solo_heroic_myth_wonder_woman   \n",
       "1              voyage_tyler_durden_han_solo_stardust   \n",
       "2  norman_bates_ferris_bueller_hermione_granger_v...   \n",
       "3                           elegant_hermione_granger   \n",
       "4                             adventure_rocky_balboa   \n",
       "\n",
       "                                               title  audienceScore rating  \\\n",
       "0                  Han Solo Heroic Myth Wonder Woman           50.0    NaN   \n",
       "1              Voyage Tyler Durden Han Solo Stardust            NaN    NaN   \n",
       "2  Norman Bates Ferris Bueller Hermione Granger V...           43.0    NaN   \n",
       "3                           Elegant Hermione Granger           60.0    NaN   \n",
       "4                             Adventure Rocky Balboa           70.0    NaN   \n",
       "\n",
       "  ratingContents releaseDateTheaters releaseDateStreaming  runtimeMinutes  \\\n",
       "0            NaN                 NaN           2018-08-25            75.0   \n",
       "1            NaN                 NaN           2020-02-11           114.0   \n",
       "2            NaN                 NaN                  NaN           120.0   \n",
       "3            NaN                 NaN           2020-10-23            90.0   \n",
       "4            NaN                 NaN           2017-03-27            80.0   \n",
       "\n",
       "                           genre originalLanguage        director boxOffice  \\\n",
       "0         Comedy, Horror, Sci-fi          English  Claude Nicolet       NaN   \n",
       "1                          Drama          English    Nathan Haack       NaN   \n",
       "2                          Drama           Korean   Theresa Smith       NaN   \n",
       "3     Action, Mystery & thriller          English    Donald Lewis       NaN   \n",
       "4  Fantasy, Adventure, Animation          English    Howard Simms       NaN   \n",
       "\n",
       "  distributor soundType  \n",
       "0         NaN       NaN  \n",
       "1         NaN       NaN  \n",
       "2         NaN       NaN  \n",
       "3         NaN       NaN  \n",
       "4         NaN       NaN  "
      ]
     },
     "execution_count": 2,
     "metadata": {},
     "output_type": "execute_result"
    }
   ],
   "source": [
    "#Glimpse of movies Dataset\n",
    "movies_data_url='/kaggle/input/sentiment-prediction-on-movie-reviews/movies.csv'\n",
    "movies_data=pd.read_csv(movies_data_url)\n",
    "movies_data.head()"
   ]
  },
  {
   "cell_type": "markdown",
   "id": "a1233d2a",
   "metadata": {
    "papermill": {
     "duration": 0.017817,
     "end_time": "2023-09-04T16:49:02.514260",
     "exception": false,
     "start_time": "2023-09-04T16:49:02.496443",
     "status": "completed"
    },
    "tags": []
   },
   "source": [
    "> <h4><b><u>.shape</u></b> returns a tuple with two values:</h4>\n",
    "<h4> 1. The first value in the tuple represents the number of rows in the DataFrame.\n",
    " <h4>2. The second value in the tuple represents the number of columns in the DataFrame."
   ]
  },
  {
   "cell_type": "code",
   "execution_count": 3,
   "id": "dca73ed0",
   "metadata": {
    "execution": {
     "iopub.execute_input": "2023-09-04T16:49:02.551857Z",
     "iopub.status.busy": "2023-09-04T16:49:02.551093Z",
     "iopub.status.idle": "2023-09-04T16:49:02.557382Z",
     "shell.execute_reply": "2023-09-04T16:49:02.556538Z"
    },
    "papermill": {
     "duration": 0.02811,
     "end_time": "2023-09-04T16:49:02.559586",
     "exception": false,
     "start_time": "2023-09-04T16:49:02.531476",
     "status": "completed"
    },
    "tags": []
   },
   "outputs": [
    {
     "data": {
      "text/plain": [
       "(143258, 14)"
      ]
     },
     "execution_count": 3,
     "metadata": {},
     "output_type": "execute_result"
    }
   ],
   "source": [
    "movies_data.shape"
   ]
  },
  {
   "cell_type": "markdown",
   "id": "adae6a51",
   "metadata": {
    "papermill": {
     "duration": 0.017071,
     "end_time": "2023-09-04T16:49:02.594114",
     "exception": false,
     "start_time": "2023-09-04T16:49:02.577043",
     "status": "completed"
    },
    "tags": []
   },
   "source": [
    "> <h4><b><u>.describe()</u></b> gives an overview of the central tendency and spread of numerical data in your DataFrame. This is useful for understanding the distribution of data. It's a common step in the exploratory data analysis (EDA) process to gain insights into your dataset.</h4>"
   ]
  },
  {
   "cell_type": "code",
   "execution_count": 4,
   "id": "dc3c67b4",
   "metadata": {
    "execution": {
     "iopub.execute_input": "2023-09-04T16:49:02.631832Z",
     "iopub.status.busy": "2023-09-04T16:49:02.631055Z",
     "iopub.status.idle": "2023-09-04T16:49:02.682734Z",
     "shell.execute_reply": "2023-09-04T16:49:02.681483Z"
    },
    "papermill": {
     "duration": 0.074432,
     "end_time": "2023-09-04T16:49:02.685952",
     "exception": false,
     "start_time": "2023-09-04T16:49:02.611520",
     "status": "completed"
    },
    "tags": []
   },
   "outputs": [
    {
     "data": {
      "text/html": [
       "<div>\n",
       "<style scoped>\n",
       "    .dataframe tbody tr th:only-of-type {\n",
       "        vertical-align: middle;\n",
       "    }\n",
       "\n",
       "    .dataframe tbody tr th {\n",
       "        vertical-align: top;\n",
       "    }\n",
       "\n",
       "    .dataframe thead th {\n",
       "        text-align: right;\n",
       "    }\n",
       "</style>\n",
       "<table border=\"1\" class=\"dataframe\">\n",
       "  <thead>\n",
       "    <tr style=\"text-align: right;\">\n",
       "      <th></th>\n",
       "      <th>audienceScore</th>\n",
       "      <th>runtimeMinutes</th>\n",
       "    </tr>\n",
       "  </thead>\n",
       "  <tbody>\n",
       "    <tr>\n",
       "      <th>count</th>\n",
       "      <td>73248.000000</td>\n",
       "      <td>129431.000000</td>\n",
       "    </tr>\n",
       "    <tr>\n",
       "      <th>mean</th>\n",
       "      <td>55.674967</td>\n",
       "      <td>93.708578</td>\n",
       "    </tr>\n",
       "    <tr>\n",
       "      <th>std</th>\n",
       "      <td>24.553648</td>\n",
       "      <td>28.129175</td>\n",
       "    </tr>\n",
       "    <tr>\n",
       "      <th>min</th>\n",
       "      <td>0.000000</td>\n",
       "      <td>1.000000</td>\n",
       "    </tr>\n",
       "    <tr>\n",
       "      <th>25%</th>\n",
       "      <td>37.000000</td>\n",
       "      <td>84.000000</td>\n",
       "    </tr>\n",
       "    <tr>\n",
       "      <th>50%</th>\n",
       "      <td>57.000000</td>\n",
       "      <td>92.000000</td>\n",
       "    </tr>\n",
       "    <tr>\n",
       "      <th>75%</th>\n",
       "      <td>76.000000</td>\n",
       "      <td>103.000000</td>\n",
       "    </tr>\n",
       "    <tr>\n",
       "      <th>max</th>\n",
       "      <td>100.000000</td>\n",
       "      <td>2700.000000</td>\n",
       "    </tr>\n",
       "  </tbody>\n",
       "</table>\n",
       "</div>"
      ],
      "text/plain": [
       "       audienceScore  runtimeMinutes\n",
       "count   73248.000000   129431.000000\n",
       "mean       55.674967       93.708578\n",
       "std        24.553648       28.129175\n",
       "min         0.000000        1.000000\n",
       "25%        37.000000       84.000000\n",
       "50%        57.000000       92.000000\n",
       "75%        76.000000      103.000000\n",
       "max       100.000000     2700.000000"
      ]
     },
     "execution_count": 4,
     "metadata": {},
     "output_type": "execute_result"
    }
   ],
   "source": [
    "movies_data.describe()"
   ]
  },
  {
   "cell_type": "markdown",
   "id": "8c431e27",
   "metadata": {
    "papermill": {
     "duration": 0.018394,
     "end_time": "2023-09-04T16:49:02.722608",
     "exception": false,
     "start_time": "2023-09-04T16:49:02.704214",
     "status": "completed"
    },
    "tags": []
   },
   "source": [
    "> <h4><b><u>.info()</u></b> provides various details about the DataFrame, including:\n",
    "<h4>* The total number of entries (rows) in the DataFrame.\n",
    "<h4>* The number of non-null entries in each column, which helps identify missing data.\n",
    "<h4>* The data type of each column (e.g., integer, float, object).\n",
    "<h4>* The memory usage of the DataFrame."
   ]
  },
  {
   "cell_type": "code",
   "execution_count": 5,
   "id": "220d8a2e",
   "metadata": {
    "execution": {
     "iopub.execute_input": "2023-09-04T16:49:02.761653Z",
     "iopub.status.busy": "2023-09-04T16:49:02.760749Z",
     "iopub.status.idle": "2023-09-04T16:49:03.285312Z",
     "shell.execute_reply": "2023-09-04T16:49:03.283573Z"
    },
    "papermill": {
     "duration": 0.546959,
     "end_time": "2023-09-04T16:49:03.287874",
     "exception": false,
     "start_time": "2023-09-04T16:49:02.740915",
     "status": "completed"
    },
    "tags": []
   },
   "outputs": [
    {
     "name": "stdout",
     "output_type": "stream",
     "text": [
      "<class 'pandas.core.frame.DataFrame'>\n",
      "RangeIndex: 143258 entries, 0 to 143257\n",
      "Data columns (total 14 columns):\n",
      " #   Column                Non-Null Count   Dtype  \n",
      "---  ------                --------------   -----  \n",
      " 0   movieid               143258 non-null  object \n",
      " 1   title                 143258 non-null  object \n",
      " 2   audienceScore         73248 non-null   float64\n",
      " 3   rating                13991 non-null   object \n",
      " 4   ratingContents        13991 non-null   object \n",
      " 5   releaseDateTheaters   30773 non-null   object \n",
      " 6   releaseDateStreaming  79420 non-null   object \n",
      " 7   runtimeMinutes        129431 non-null  float64\n",
      " 8   genre                 132175 non-null  object \n",
      " 9   originalLanguage      129400 non-null  object \n",
      " 10  director              143258 non-null  object \n",
      " 11  boxOffice             14743 non-null   object \n",
      " 12  distributor           23005 non-null   object \n",
      " 13  soundType             15917 non-null   object \n",
      "dtypes: float64(2), object(12)\n",
      "memory usage: 15.3+ MB\n"
     ]
    }
   ],
   "source": [
    "movies_data.info()"
   ]
  },
  {
   "cell_type": "markdown",
   "id": "7b71d820",
   "metadata": {
    "papermill": {
     "duration": 0.017297,
     "end_time": "2023-09-04T16:49:03.323497",
     "exception": false,
     "start_time": "2023-09-04T16:49:03.306200",
     "status": "completed"
    },
    "tags": []
   },
   "source": [
    ">**.isna()** method is used to create a Boolean DataFrame of the same shape as movies_data, where each element is True if the corresponding element in the original DataFrame is missing (NaN or null), and False otherwise.\n",
    "\n",
    ">**.sum()** method is then called on the Boolean DataFrame created by .isna(). It calculates the sum of True values (which represent missing values) along each column. In other words, it counts the number of missing values in each column."
   ]
  },
  {
   "cell_type": "code",
   "execution_count": 6,
   "id": "862efcbb",
   "metadata": {
    "execution": {
     "iopub.execute_input": "2023-09-04T16:49:03.361761Z",
     "iopub.status.busy": "2023-09-04T16:49:03.360981Z",
     "iopub.status.idle": "2023-09-04T16:49:03.863565Z",
     "shell.execute_reply": "2023-09-04T16:49:03.862401Z"
    },
    "papermill": {
     "duration": 0.524296,
     "end_time": "2023-09-04T16:49:03.866069",
     "exception": false,
     "start_time": "2023-09-04T16:49:03.341773",
     "status": "completed"
    },
    "tags": []
   },
   "outputs": [
    {
     "data": {
      "text/plain": [
       "movieid                      0\n",
       "title                        0\n",
       "audienceScore            70010\n",
       "rating                  129267\n",
       "ratingContents          129267\n",
       "releaseDateTheaters     112485\n",
       "releaseDateStreaming     63838\n",
       "runtimeMinutes           13827\n",
       "genre                    11083\n",
       "originalLanguage         13858\n",
       "director                     0\n",
       "boxOffice               128515\n",
       "distributor             120253\n",
       "soundType               127341\n",
       "dtype: int64"
      ]
     },
     "execution_count": 6,
     "metadata": {},
     "output_type": "execute_result"
    }
   ],
   "source": [
    "movies_data.isna().sum()"
   ]
  },
  {
   "cell_type": "markdown",
   "id": "4e6bb40b",
   "metadata": {
    "papermill": {
     "duration": 0.022705,
     "end_time": "2023-09-04T16:49:03.909358",
     "exception": false,
     "start_time": "2023-09-04T16:49:03.886653",
     "status": "completed"
    },
    "tags": []
   },
   "source": [
    "# <u>Glimpse of Sample Dataset"
   ]
  },
  {
   "cell_type": "code",
   "execution_count": 7,
   "id": "bffcbc81",
   "metadata": {
    "execution": {
     "iopub.execute_input": "2023-09-04T16:49:03.956940Z",
     "iopub.status.busy": "2023-09-04T16:49:03.956468Z",
     "iopub.status.idle": "2023-09-04T16:49:04.017297Z",
     "shell.execute_reply": "2023-09-04T16:49:04.016290Z"
    },
    "papermill": {
     "duration": 0.08551,
     "end_time": "2023-09-04T16:49:04.019936",
     "exception": false,
     "start_time": "2023-09-04T16:49:03.934426",
     "status": "completed"
    },
    "tags": []
   },
   "outputs": [
    {
     "data": {
      "text/html": [
       "<div>\n",
       "<style scoped>\n",
       "    .dataframe tbody tr th:only-of-type {\n",
       "        vertical-align: middle;\n",
       "    }\n",
       "\n",
       "    .dataframe tbody tr th {\n",
       "        vertical-align: top;\n",
       "    }\n",
       "\n",
       "    .dataframe thead th {\n",
       "        text-align: right;\n",
       "    }\n",
       "</style>\n",
       "<table border=\"1\" class=\"dataframe\">\n",
       "  <thead>\n",
       "    <tr style=\"text-align: right;\">\n",
       "      <th></th>\n",
       "      <th>id,sentiment</th>\n",
       "    </tr>\n",
       "  </thead>\n",
       "  <tbody>\n",
       "    <tr>\n",
       "      <th>0</th>\n",
       "      <td>0,NEGATIVE</td>\n",
       "    </tr>\n",
       "    <tr>\n",
       "      <th>1</th>\n",
       "      <td>1,NEGATIVE</td>\n",
       "    </tr>\n",
       "    <tr>\n",
       "      <th>2</th>\n",
       "      <td>2,NEGATIVE</td>\n",
       "    </tr>\n",
       "    <tr>\n",
       "      <th>3</th>\n",
       "      <td>3,NEGATIVE</td>\n",
       "    </tr>\n",
       "    <tr>\n",
       "      <th>4</th>\n",
       "      <td>4,NEGATIVE</td>\n",
       "    </tr>\n",
       "  </tbody>\n",
       "</table>\n",
       "</div>"
      ],
      "text/plain": [
       "  id,sentiment\n",
       "0   0,NEGATIVE\n",
       "1   1,NEGATIVE\n",
       "2   2,NEGATIVE\n",
       "3   3,NEGATIVE\n",
       "4   4,NEGATIVE"
      ]
     },
     "execution_count": 7,
     "metadata": {},
     "output_type": "execute_result"
    }
   ],
   "source": [
    "#Glimpse of sample Dataset\n",
    "sample_data_url='/kaggle/input/sentiment-prediction-on-movie-reviews/sample.csv'\n",
    "sample_data=pd.read_csv(sample_data_url,sep=';')\n",
    "sample_data.head()"
   ]
  },
  {
   "cell_type": "code",
   "execution_count": 8,
   "id": "6859ae52",
   "metadata": {
    "execution": {
     "iopub.execute_input": "2023-09-04T16:49:04.059197Z",
     "iopub.status.busy": "2023-09-04T16:49:04.058224Z",
     "iopub.status.idle": "2023-09-04T16:49:04.065519Z",
     "shell.execute_reply": "2023-09-04T16:49:04.064378Z"
    },
    "papermill": {
     "duration": 0.029599,
     "end_time": "2023-09-04T16:49:04.068128",
     "exception": false,
     "start_time": "2023-09-04T16:49:04.038529",
     "status": "completed"
    },
    "tags": []
   },
   "outputs": [
    {
     "data": {
      "text/plain": [
       "(55315, 1)"
      ]
     },
     "execution_count": 8,
     "metadata": {},
     "output_type": "execute_result"
    }
   ],
   "source": [
    "sample_data.shape"
   ]
  },
  {
   "cell_type": "code",
   "execution_count": 9,
   "id": "04a62687",
   "metadata": {
    "execution": {
     "iopub.execute_input": "2023-09-04T16:49:04.108300Z",
     "iopub.status.busy": "2023-09-04T16:49:04.107274Z",
     "iopub.status.idle": "2023-09-04T16:49:04.175264Z",
     "shell.execute_reply": "2023-09-04T16:49:04.173992Z"
    },
    "papermill": {
     "duration": 0.090467,
     "end_time": "2023-09-04T16:49:04.177804",
     "exception": false,
     "start_time": "2023-09-04T16:49:04.087337",
     "status": "completed"
    },
    "tags": []
   },
   "outputs": [
    {
     "data": {
      "text/html": [
       "<div>\n",
       "<style scoped>\n",
       "    .dataframe tbody tr th:only-of-type {\n",
       "        vertical-align: middle;\n",
       "    }\n",
       "\n",
       "    .dataframe tbody tr th {\n",
       "        vertical-align: top;\n",
       "    }\n",
       "\n",
       "    .dataframe thead th {\n",
       "        text-align: right;\n",
       "    }\n",
       "</style>\n",
       "<table border=\"1\" class=\"dataframe\">\n",
       "  <thead>\n",
       "    <tr style=\"text-align: right;\">\n",
       "      <th></th>\n",
       "      <th>id,sentiment</th>\n",
       "    </tr>\n",
       "  </thead>\n",
       "  <tbody>\n",
       "    <tr>\n",
       "      <th>count</th>\n",
       "      <td>55315</td>\n",
       "    </tr>\n",
       "    <tr>\n",
       "      <th>unique</th>\n",
       "      <td>55315</td>\n",
       "    </tr>\n",
       "    <tr>\n",
       "      <th>top</th>\n",
       "      <td>0,NEGATIVE</td>\n",
       "    </tr>\n",
       "    <tr>\n",
       "      <th>freq</th>\n",
       "      <td>1</td>\n",
       "    </tr>\n",
       "  </tbody>\n",
       "</table>\n",
       "</div>"
      ],
      "text/plain": [
       "       id,sentiment\n",
       "count         55315\n",
       "unique        55315\n",
       "top      0,NEGATIVE\n",
       "freq              1"
      ]
     },
     "execution_count": 9,
     "metadata": {},
     "output_type": "execute_result"
    }
   ],
   "source": [
    "sample_data.describe()"
   ]
  },
  {
   "cell_type": "code",
   "execution_count": 10,
   "id": "82fe8179",
   "metadata": {
    "execution": {
     "iopub.execute_input": "2023-09-04T16:49:04.217428Z",
     "iopub.status.busy": "2023-09-04T16:49:04.216984Z",
     "iopub.status.idle": "2023-09-04T16:49:04.248611Z",
     "shell.execute_reply": "2023-09-04T16:49:04.247028Z"
    },
    "papermill": {
     "duration": 0.055061,
     "end_time": "2023-09-04T16:49:04.251590",
     "exception": false,
     "start_time": "2023-09-04T16:49:04.196529",
     "status": "completed"
    },
    "tags": []
   },
   "outputs": [
    {
     "name": "stdout",
     "output_type": "stream",
     "text": [
      "<class 'pandas.core.frame.DataFrame'>\n",
      "RangeIndex: 55315 entries, 0 to 55314\n",
      "Data columns (total 1 columns):\n",
      " #   Column        Non-Null Count  Dtype \n",
      "---  ------        --------------  ----- \n",
      " 0   id,sentiment  55315 non-null  object\n",
      "dtypes: object(1)\n",
      "memory usage: 432.3+ KB\n"
     ]
    }
   ],
   "source": [
    "sample_data.info()"
   ]
  },
  {
   "cell_type": "markdown",
   "id": "3ad2ba0d",
   "metadata": {
    "papermill": {
     "duration": 0.018618,
     "end_time": "2023-09-04T16:49:04.289192",
     "exception": false,
     "start_time": "2023-09-04T16:49:04.270574",
     "status": "completed"
    },
    "tags": []
   },
   "source": [
    "# <u>Glimpse of Train Dataset"
   ]
  },
  {
   "cell_type": "code",
   "execution_count": 11,
   "id": "6179c58d",
   "metadata": {
    "execution": {
     "iopub.execute_input": "2023-09-04T16:49:04.330533Z",
     "iopub.status.busy": "2023-09-04T16:49:04.329136Z",
     "iopub.status.idle": "2023-09-04T16:49:05.526794Z",
     "shell.execute_reply": "2023-09-04T16:49:05.525543Z"
    },
    "papermill": {
     "duration": 1.22295,
     "end_time": "2023-09-04T16:49:05.531471",
     "exception": false,
     "start_time": "2023-09-04T16:49:04.308521",
     "status": "completed"
    },
    "tags": []
   },
   "outputs": [
    {
     "data": {
      "text/html": [
       "<div>\n",
       "<style scoped>\n",
       "    .dataframe tbody tr th:only-of-type {\n",
       "        vertical-align: middle;\n",
       "    }\n",
       "\n",
       "    .dataframe tbody tr th {\n",
       "        vertical-align: top;\n",
       "    }\n",
       "\n",
       "    .dataframe thead th {\n",
       "        text-align: right;\n",
       "    }\n",
       "</style>\n",
       "<table border=\"1\" class=\"dataframe\">\n",
       "  <thead>\n",
       "    <tr style=\"text-align: right;\">\n",
       "      <th></th>\n",
       "      <th>movieid</th>\n",
       "      <th>reviewerName</th>\n",
       "      <th>isFrequentReviewer</th>\n",
       "      <th>reviewText</th>\n",
       "      <th>sentiment</th>\n",
       "    </tr>\n",
       "  </thead>\n",
       "  <tbody>\n",
       "    <tr>\n",
       "      <th>0</th>\n",
       "      <td>marvelous_pirate</td>\n",
       "      <td>Benjamin Henry</td>\n",
       "      <td>False</td>\n",
       "      <td>Henry Selick’s first movie since 2009’s Corali...</td>\n",
       "      <td>POSITIVE</td>\n",
       "    </tr>\n",
       "    <tr>\n",
       "      <th>1</th>\n",
       "      <td>tony_montana_frodo_baggins_v_rocky_balboa</td>\n",
       "      <td>Felicia Lopez</td>\n",
       "      <td>False</td>\n",
       "      <td>With a cast that reads like the Vogue Oscar pa...</td>\n",
       "      <td>NEGATIVE</td>\n",
       "    </tr>\n",
       "    <tr>\n",
       "      <th>2</th>\n",
       "      <td>darth_vader_katniss_everdeen_sorcerer_donnie_d...</td>\n",
       "      <td>Mr. Charles Burgess</td>\n",
       "      <td>True</td>\n",
       "      <td>Creed II does not give us anything but another...</td>\n",
       "      <td>POSITIVE</td>\n",
       "    </tr>\n",
       "    <tr>\n",
       "      <th>3</th>\n",
       "      <td>lara_croft_glimmer</td>\n",
       "      <td>Ryan Barrett</td>\n",
       "      <td>False</td>\n",
       "      <td>I know what you're thinking, but this is no Li...</td>\n",
       "      <td>POSITIVE</td>\n",
       "    </tr>\n",
       "    <tr>\n",
       "      <th>4</th>\n",
       "      <td>jason_bourne_surreal_the_terminator_indiana_jones</td>\n",
       "      <td>Alexander Glover</td>\n",
       "      <td>False</td>\n",
       "      <td>Director Fernando Meirelles tells the story wi...</td>\n",
       "      <td>POSITIVE</td>\n",
       "    </tr>\n",
       "  </tbody>\n",
       "</table>\n",
       "</div>"
      ],
      "text/plain": [
       "                                             movieid         reviewerName  \\\n",
       "0                                   marvelous_pirate       Benjamin Henry   \n",
       "1          tony_montana_frodo_baggins_v_rocky_balboa        Felicia Lopez   \n",
       "2  darth_vader_katniss_everdeen_sorcerer_donnie_d...  Mr. Charles Burgess   \n",
       "3                                 lara_croft_glimmer         Ryan Barrett   \n",
       "4  jason_bourne_surreal_the_terminator_indiana_jones     Alexander Glover   \n",
       "\n",
       "   isFrequentReviewer                                         reviewText  \\\n",
       "0               False  Henry Selick’s first movie since 2009’s Corali...   \n",
       "1               False  With a cast that reads like the Vogue Oscar pa...   \n",
       "2                True  Creed II does not give us anything but another...   \n",
       "3               False  I know what you're thinking, but this is no Li...   \n",
       "4               False  Director Fernando Meirelles tells the story wi...   \n",
       "\n",
       "  sentiment  \n",
       "0  POSITIVE  \n",
       "1  NEGATIVE  \n",
       "2  POSITIVE  \n",
       "3  POSITIVE  \n",
       "4  POSITIVE  "
      ]
     },
     "execution_count": 11,
     "metadata": {},
     "output_type": "execute_result"
    }
   ],
   "source": [
    "#Glimpse of train Dataset\n",
    "train_data_url='/kaggle/input/sentiment-prediction-on-movie-reviews/train.csv'\n",
    "train_data=pd.read_csv(train_data_url)\n",
    "train_data.head()"
   ]
  },
  {
   "cell_type": "code",
   "execution_count": 12,
   "id": "31ac429b",
   "metadata": {
    "execution": {
     "iopub.execute_input": "2023-09-04T16:49:05.572862Z",
     "iopub.status.busy": "2023-09-04T16:49:05.572265Z",
     "iopub.status.idle": "2023-09-04T16:49:05.580238Z",
     "shell.execute_reply": "2023-09-04T16:49:05.579056Z"
    },
    "papermill": {
     "duration": 0.030563,
     "end_time": "2023-09-04T16:49:05.582407",
     "exception": false,
     "start_time": "2023-09-04T16:49:05.551844",
     "status": "completed"
    },
    "tags": []
   },
   "outputs": [
    {
     "data": {
      "text/plain": [
       "(162758, 5)"
      ]
     },
     "execution_count": 12,
     "metadata": {},
     "output_type": "execute_result"
    }
   ],
   "source": [
    "train_data.shape"
   ]
  },
  {
   "cell_type": "code",
   "execution_count": 13,
   "id": "9f5e433a",
   "metadata": {
    "execution": {
     "iopub.execute_input": "2023-09-04T16:49:05.622756Z",
     "iopub.status.busy": "2023-09-04T16:49:05.621960Z",
     "iopub.status.idle": "2023-09-04T16:49:05.843981Z",
     "shell.execute_reply": "2023-09-04T16:49:05.842784Z"
    },
    "papermill": {
     "duration": 0.24479,
     "end_time": "2023-09-04T16:49:05.846245",
     "exception": false,
     "start_time": "2023-09-04T16:49:05.601455",
     "status": "completed"
    },
    "tags": []
   },
   "outputs": [
    {
     "data": {
      "text/plain": [
       "movieid                  0\n",
       "reviewerName             0\n",
       "isFrequentReviewer       0\n",
       "reviewText            6447\n",
       "sentiment                0\n",
       "dtype: int64"
      ]
     },
     "execution_count": 13,
     "metadata": {},
     "output_type": "execute_result"
    }
   ],
   "source": [
    "train_data.isna().sum()"
   ]
  },
  {
   "cell_type": "code",
   "execution_count": 14,
   "id": "9241b6e2",
   "metadata": {
    "execution": {
     "iopub.execute_input": "2023-09-04T16:49:05.886941Z",
     "iopub.status.busy": "2023-09-04T16:49:05.885937Z",
     "iopub.status.idle": "2023-09-04T16:49:06.223334Z",
     "shell.execute_reply": "2023-09-04T16:49:06.221887Z"
    },
    "papermill": {
     "duration": 0.360549,
     "end_time": "2023-09-04T16:49:06.225953",
     "exception": false,
     "start_time": "2023-09-04T16:49:05.865404",
     "status": "completed"
    },
    "tags": []
   },
   "outputs": [
    {
     "data": {
      "text/html": [
       "<div>\n",
       "<style scoped>\n",
       "    .dataframe tbody tr th:only-of-type {\n",
       "        vertical-align: middle;\n",
       "    }\n",
       "\n",
       "    .dataframe tbody tr th {\n",
       "        vertical-align: top;\n",
       "    }\n",
       "\n",
       "    .dataframe thead th {\n",
       "        text-align: right;\n",
       "    }\n",
       "</style>\n",
       "<table border=\"1\" class=\"dataframe\">\n",
       "  <thead>\n",
       "    <tr style=\"text-align: right;\">\n",
       "      <th></th>\n",
       "      <th>movieid</th>\n",
       "      <th>reviewerName</th>\n",
       "      <th>isFrequentReviewer</th>\n",
       "      <th>reviewText</th>\n",
       "      <th>sentiment</th>\n",
       "    </tr>\n",
       "  </thead>\n",
       "  <tbody>\n",
       "    <tr>\n",
       "      <th>count</th>\n",
       "      <td>162758</td>\n",
       "      <td>162758</td>\n",
       "      <td>162758</td>\n",
       "      <td>156311</td>\n",
       "      <td>162758</td>\n",
       "    </tr>\n",
       "    <tr>\n",
       "      <th>unique</th>\n",
       "      <td>16812</td>\n",
       "      <td>4482</td>\n",
       "      <td>2</td>\n",
       "      <td>155071</td>\n",
       "      <td>2</td>\n",
       "    </tr>\n",
       "    <tr>\n",
       "      <th>top</th>\n",
       "      <td>escape_the_terminator_tyler_durden_astonish</td>\n",
       "      <td>Sherri Morrison</td>\n",
       "      <td>False</td>\n",
       "      <td>Parental Content Review</td>\n",
       "      <td>POSITIVE</td>\n",
       "    </tr>\n",
       "    <tr>\n",
       "      <th>freq</th>\n",
       "      <td>708</td>\n",
       "      <td>962</td>\n",
       "      <td>113189</td>\n",
       "      <td>29</td>\n",
       "      <td>108761</td>\n",
       "    </tr>\n",
       "  </tbody>\n",
       "</table>\n",
       "</div>"
      ],
      "text/plain": [
       "                                            movieid     reviewerName  \\\n",
       "count                                        162758           162758   \n",
       "unique                                        16812             4482   \n",
       "top     escape_the_terminator_tyler_durden_astonish  Sherri Morrison   \n",
       "freq                                            708              962   \n",
       "\n",
       "       isFrequentReviewer               reviewText sentiment  \n",
       "count              162758                   156311    162758  \n",
       "unique                  2                   155071         2  \n",
       "top                 False  Parental Content Review  POSITIVE  \n",
       "freq               113189                       29    108761  "
      ]
     },
     "execution_count": 14,
     "metadata": {},
     "output_type": "execute_result"
    }
   ],
   "source": [
    "train_data.describe()"
   ]
  },
  {
   "cell_type": "code",
   "execution_count": 15,
   "id": "27ee0479",
   "metadata": {
    "execution": {
     "iopub.execute_input": "2023-09-04T16:49:06.267923Z",
     "iopub.status.busy": "2023-09-04T16:49:06.267480Z",
     "iopub.status.idle": "2023-09-04T16:49:06.488504Z",
     "shell.execute_reply": "2023-09-04T16:49:06.486588Z"
    },
    "papermill": {
     "duration": 0.245054,
     "end_time": "2023-09-04T16:49:06.490950",
     "exception": false,
     "start_time": "2023-09-04T16:49:06.245896",
     "status": "completed"
    },
    "tags": []
   },
   "outputs": [
    {
     "name": "stdout",
     "output_type": "stream",
     "text": [
      "<class 'pandas.core.frame.DataFrame'>\n",
      "RangeIndex: 162758 entries, 0 to 162757\n",
      "Data columns (total 5 columns):\n",
      " #   Column              Non-Null Count   Dtype \n",
      "---  ------              --------------   ----- \n",
      " 0   movieid             162758 non-null  object\n",
      " 1   reviewerName        162758 non-null  object\n",
      " 2   isFrequentReviewer  162758 non-null  bool  \n",
      " 3   reviewText          156311 non-null  object\n",
      " 4   sentiment           162758 non-null  object\n",
      "dtypes: bool(1), object(4)\n",
      "memory usage: 5.1+ MB\n"
     ]
    }
   ],
   "source": [
    "train_data.info()"
   ]
  },
  {
   "cell_type": "markdown",
   "id": "fa09afe0",
   "metadata": {
    "papermill": {
     "duration": 0.019602,
     "end_time": "2023-09-04T16:49:06.530350",
     "exception": false,
     "start_time": "2023-09-04T16:49:06.510748",
     "status": "completed"
    },
    "tags": []
   },
   "source": [
    "# <u>Glimpse of Test Dataset"
   ]
  },
  {
   "cell_type": "code",
   "execution_count": 16,
   "id": "09e1e2c1",
   "metadata": {
    "execution": {
     "iopub.execute_input": "2023-09-04T16:49:06.573340Z",
     "iopub.status.busy": "2023-09-04T16:49:06.572885Z",
     "iopub.status.idle": "2023-09-04T16:49:06.961409Z",
     "shell.execute_reply": "2023-09-04T16:49:06.960301Z"
    },
    "papermill": {
     "duration": 0.413489,
     "end_time": "2023-09-04T16:49:06.963904",
     "exception": false,
     "start_time": "2023-09-04T16:49:06.550415",
     "status": "completed"
    },
    "tags": []
   },
   "outputs": [
    {
     "data": {
      "text/html": [
       "<div>\n",
       "<style scoped>\n",
       "    .dataframe tbody tr th:only-of-type {\n",
       "        vertical-align: middle;\n",
       "    }\n",
       "\n",
       "    .dataframe tbody tr th {\n",
       "        vertical-align: top;\n",
       "    }\n",
       "\n",
       "    .dataframe thead th {\n",
       "        text-align: right;\n",
       "    }\n",
       "</style>\n",
       "<table border=\"1\" class=\"dataframe\">\n",
       "  <thead>\n",
       "    <tr style=\"text-align: right;\">\n",
       "      <th></th>\n",
       "      <th>movieid</th>\n",
       "      <th>reviewerName</th>\n",
       "      <th>isTopCritic</th>\n",
       "      <th>reviewText</th>\n",
       "    </tr>\n",
       "  </thead>\n",
       "  <tbody>\n",
       "    <tr>\n",
       "      <th>0</th>\n",
       "      <td>legend_marty_mcfly_oracle</td>\n",
       "      <td>John Kim</td>\n",
       "      <td>False</td>\n",
       "      <td>Green slowly cranks up the dread with style an...</td>\n",
       "    </tr>\n",
       "    <tr>\n",
       "      <th>1</th>\n",
       "      <td>terminator_katniss_everdeen_glimmer</td>\n",
       "      <td>Brian Chaney</td>\n",
       "      <td>False</td>\n",
       "      <td>Philip Noyce's direction is elegant and unforc...</td>\n",
       "    </tr>\n",
       "    <tr>\n",
       "      <th>2</th>\n",
       "      <td>james_bond_labyrinth_gollum</td>\n",
       "      <td>Danielle Parker</td>\n",
       "      <td>False</td>\n",
       "      <td>It wouldn't do to say what path Maria ultimate...</td>\n",
       "    </tr>\n",
       "    <tr>\n",
       "      <th>3</th>\n",
       "      <td>v_quest_han_solo_wondrous</td>\n",
       "      <td>Brittany Lane</td>\n",
       "      <td>False</td>\n",
       "      <td>Pig is not exactly the arthouse John Wick that...</td>\n",
       "    </tr>\n",
       "    <tr>\n",
       "      <th>4</th>\n",
       "      <td>enigma_hulk_surreal_starlight</td>\n",
       "      <td>Justin Willis</td>\n",
       "      <td>False</td>\n",
       "      <td>An imaginative no-budget musical of sorts abou...</td>\n",
       "    </tr>\n",
       "  </tbody>\n",
       "</table>\n",
       "</div>"
      ],
      "text/plain": [
       "                               movieid     reviewerName  isTopCritic  \\\n",
       "0            legend_marty_mcfly_oracle         John Kim        False   \n",
       "1  terminator_katniss_everdeen_glimmer     Brian Chaney        False   \n",
       "2          james_bond_labyrinth_gollum  Danielle Parker        False   \n",
       "3            v_quest_han_solo_wondrous    Brittany Lane        False   \n",
       "4        enigma_hulk_surreal_starlight    Justin Willis        False   \n",
       "\n",
       "                                          reviewText  \n",
       "0  Green slowly cranks up the dread with style an...  \n",
       "1  Philip Noyce's direction is elegant and unforc...  \n",
       "2  It wouldn't do to say what path Maria ultimate...  \n",
       "3  Pig is not exactly the arthouse John Wick that...  \n",
       "4  An imaginative no-budget musical of sorts abou...  "
      ]
     },
     "execution_count": 16,
     "metadata": {},
     "output_type": "execute_result"
    }
   ],
   "source": [
    "#Glimpse of test Dataset\n",
    "test_data_url='/kaggle/input/sentiment-prediction-on-movie-reviews/test.csv'\n",
    "test_data=pd.read_csv(test_data_url)\n",
    "test_data.head()"
   ]
  },
  {
   "cell_type": "code",
   "execution_count": 17,
   "id": "e90db7a4",
   "metadata": {
    "execution": {
     "iopub.execute_input": "2023-09-04T16:49:07.005348Z",
     "iopub.status.busy": "2023-09-04T16:49:07.004911Z",
     "iopub.status.idle": "2023-09-04T16:49:07.013025Z",
     "shell.execute_reply": "2023-09-04T16:49:07.011911Z"
    },
    "papermill": {
     "duration": 0.032169,
     "end_time": "2023-09-04T16:49:07.015644",
     "exception": false,
     "start_time": "2023-09-04T16:49:06.983475",
     "status": "completed"
    },
    "tags": []
   },
   "outputs": [
    {
     "data": {
      "text/plain": [
       "(55315, 4)"
      ]
     },
     "execution_count": 17,
     "metadata": {},
     "output_type": "execute_result"
    }
   ],
   "source": [
    "test_data.shape"
   ]
  },
  {
   "cell_type": "code",
   "execution_count": 18,
   "id": "ba994d30",
   "metadata": {
    "execution": {
     "iopub.execute_input": "2023-09-04T16:49:07.060742Z",
     "iopub.status.busy": "2023-09-04T16:49:07.060258Z",
     "iopub.status.idle": "2023-09-04T16:49:07.127483Z",
     "shell.execute_reply": "2023-09-04T16:49:07.126266Z"
    },
    "papermill": {
     "duration": 0.093981,
     "end_time": "2023-09-04T16:49:07.130158",
     "exception": false,
     "start_time": "2023-09-04T16:49:07.036177",
     "status": "completed"
    },
    "tags": []
   },
   "outputs": [
    {
     "data": {
      "text/plain": [
       "movieid            0\n",
       "reviewerName       0\n",
       "isTopCritic        0\n",
       "reviewText      2510\n",
       "dtype: int64"
      ]
     },
     "execution_count": 18,
     "metadata": {},
     "output_type": "execute_result"
    }
   ],
   "source": [
    "test_data.isna().sum()"
   ]
  },
  {
   "cell_type": "code",
   "execution_count": 19,
   "id": "80dbeaaa",
   "metadata": {
    "execution": {
     "iopub.execute_input": "2023-09-04T16:49:07.175448Z",
     "iopub.status.busy": "2023-09-04T16:49:07.174984Z",
     "iopub.status.idle": "2023-09-04T16:49:07.285348Z",
     "shell.execute_reply": "2023-09-04T16:49:07.284260Z"
    },
    "papermill": {
     "duration": 0.136324,
     "end_time": "2023-09-04T16:49:07.287776",
     "exception": false,
     "start_time": "2023-09-04T16:49:07.151452",
     "status": "completed"
    },
    "tags": []
   },
   "outputs": [
    {
     "data": {
      "text/html": [
       "<div>\n",
       "<style scoped>\n",
       "    .dataframe tbody tr th:only-of-type {\n",
       "        vertical-align: middle;\n",
       "    }\n",
       "\n",
       "    .dataframe tbody tr th {\n",
       "        vertical-align: top;\n",
       "    }\n",
       "\n",
       "    .dataframe thead th {\n",
       "        text-align: right;\n",
       "    }\n",
       "</style>\n",
       "<table border=\"1\" class=\"dataframe\">\n",
       "  <thead>\n",
       "    <tr style=\"text-align: right;\">\n",
       "      <th></th>\n",
       "      <th>movieid</th>\n",
       "      <th>reviewerName</th>\n",
       "      <th>isTopCritic</th>\n",
       "      <th>reviewText</th>\n",
       "    </tr>\n",
       "  </thead>\n",
       "  <tbody>\n",
       "    <tr>\n",
       "      <th>count</th>\n",
       "      <td>55315</td>\n",
       "      <td>55315</td>\n",
       "      <td>55315</td>\n",
       "      <td>52805</td>\n",
       "    </tr>\n",
       "    <tr>\n",
       "      <th>unique</th>\n",
       "      <td>16786</td>\n",
       "      <td>4495</td>\n",
       "      <td>2</td>\n",
       "      <td>52686</td>\n",
       "    </tr>\n",
       "    <tr>\n",
       "      <th>top</th>\n",
       "      <td>escape_the_terminator_tyler_durden_astonish</td>\n",
       "      <td>Sherri Morrison</td>\n",
       "      <td>False</td>\n",
       "      <td>Parental Content Review</td>\n",
       "    </tr>\n",
       "    <tr>\n",
       "      <th>freq</th>\n",
       "      <td>230</td>\n",
       "      <td>428</td>\n",
       "      <td>38428</td>\n",
       "      <td>12</td>\n",
       "    </tr>\n",
       "  </tbody>\n",
       "</table>\n",
       "</div>"
      ],
      "text/plain": [
       "                                            movieid     reviewerName  \\\n",
       "count                                         55315            55315   \n",
       "unique                                        16786             4495   \n",
       "top     escape_the_terminator_tyler_durden_astonish  Sherri Morrison   \n",
       "freq                                            230              428   \n",
       "\n",
       "       isTopCritic               reviewText  \n",
       "count        55315                    52805  \n",
       "unique           2                    52686  \n",
       "top          False  Parental Content Review  \n",
       "freq         38428                       12  "
      ]
     },
     "execution_count": 19,
     "metadata": {},
     "output_type": "execute_result"
    }
   ],
   "source": [
    "test_data.describe()"
   ]
  },
  {
   "cell_type": "code",
   "execution_count": 20,
   "id": "2f0c462d",
   "metadata": {
    "execution": {
     "iopub.execute_input": "2023-09-04T16:49:07.330541Z",
     "iopub.status.busy": "2023-09-04T16:49:07.330074Z",
     "iopub.status.idle": "2023-09-04T16:49:07.400325Z",
     "shell.execute_reply": "2023-09-04T16:49:07.398705Z"
    },
    "papermill": {
     "duration": 0.094793,
     "end_time": "2023-09-04T16:49:07.402920",
     "exception": false,
     "start_time": "2023-09-04T16:49:07.308127",
     "status": "completed"
    },
    "tags": []
   },
   "outputs": [
    {
     "name": "stdout",
     "output_type": "stream",
     "text": [
      "<class 'pandas.core.frame.DataFrame'>\n",
      "RangeIndex: 55315 entries, 0 to 55314\n",
      "Data columns (total 4 columns):\n",
      " #   Column        Non-Null Count  Dtype \n",
      "---  ------        --------------  ----- \n",
      " 0   movieid       55315 non-null  object\n",
      " 1   reviewerName  55315 non-null  object\n",
      " 2   isTopCritic   55315 non-null  bool  \n",
      " 3   reviewText    52805 non-null  object\n",
      "dtypes: bool(1), object(3)\n",
      "memory usage: 1.3+ MB\n"
     ]
    }
   ],
   "source": [
    "test_data.info()"
   ]
  },
  {
   "cell_type": "markdown",
   "id": "2da4dfbd",
   "metadata": {
    "papermill": {
     "duration": 0.021782,
     "end_time": "2023-09-04T16:49:07.445915",
     "exception": false,
     "start_time": "2023-09-04T16:49:07.424133",
     "status": "completed"
    },
    "tags": []
   },
   "source": [
    "> <h3> Importing Necessary Libraries"
   ]
  },
  {
   "cell_type": "code",
   "execution_count": 21,
   "id": "fd8b10d8",
   "metadata": {
    "execution": {
     "iopub.execute_input": "2023-09-04T16:49:07.490309Z",
     "iopub.status.busy": "2023-09-04T16:49:07.489907Z",
     "iopub.status.idle": "2023-09-04T16:49:10.560816Z",
     "shell.execute_reply": "2023-09-04T16:49:10.559327Z"
    },
    "papermill": {
     "duration": 3.096899,
     "end_time": "2023-09-04T16:49:10.563980",
     "exception": false,
     "start_time": "2023-09-04T16:49:07.467081",
     "status": "completed"
    },
    "tags": []
   },
   "outputs": [],
   "source": [
    "from sklearn.feature_extraction.text import CountVectorizer\n",
    "from sklearn.linear_model import LogisticRegression\n",
    "from sklearn.model_selection import train_test_split,GridSearchCV,cross_val_score\n",
    "from sklearn.feature_extraction.text import TfidfVectorizer\n",
    "from sklearn.metrics import accuracy_score\n",
    "from sklearn.naive_bayes import MultinomialNB\n",
    "from sklearn.metrics import accuracy_score,classification_report\n",
    "from sklearn.svm import SVC\n",
    "import xgboost as xgb\n",
    "from sklearn.ensemble import RandomForestClassifier\n",
    "import matplotlib.pyplot as plt\n",
    "import seaborn as sns\n",
    "from textblob import TextBlob\n",
    "from sklearn.pipeline import Pipeline"
   ]
  },
  {
   "cell_type": "markdown",
   "id": "c2279324",
   "metadata": {
    "papermill": {
     "duration": 0.020652,
     "end_time": "2023-09-04T16:49:10.605832",
     "exception": false,
     "start_time": "2023-09-04T16:49:10.585180",
     "status": "completed"
    },
    "tags": []
   },
   "source": [
    ">Since we have to perform sentiment prediction on the dataset, we have to train the dataset with the columns that play an important role in the analysis. Hence, three columns ('movieid', 'reviewerName', 'isFrequentReviewer') are dropped because they are considered irrelevant for sentiment analysis.\n",
    "\n",
    ">Missing values in the data frame are filled with empty strings, which suggests that missing reviews are treated as empty reviews.\n",
    "\n",
    ">The dataset is split into training and testing sets to evaluate the performance of a sentiment analysis model."
   ]
  },
  {
   "cell_type": "code",
   "execution_count": 22,
   "id": "fd4022d7",
   "metadata": {
    "execution": {
     "iopub.execute_input": "2023-09-04T16:49:10.650803Z",
     "iopub.status.busy": "2023-09-04T16:49:10.650318Z",
     "iopub.status.idle": "2023-09-04T16:49:10.827521Z",
     "shell.execute_reply": "2023-09-04T16:49:10.826243Z"
    },
    "papermill": {
     "duration": 0.203213,
     "end_time": "2023-09-04T16:49:10.830192",
     "exception": false,
     "start_time": "2023-09-04T16:49:10.626979",
     "status": "completed"
    },
    "tags": []
   },
   "outputs": [],
   "source": [
    "train_df=train_data.drop(['movieid','reviewerName','isFrequentReviewer'],axis=1)\n",
    "train_df=train_df.fillna('')\n",
    "x=train_df['reviewText']\n",
    "y=train_df['sentiment']\n",
    "X_train,X_test,y_train,y_test= train_test_split(x,y,test_size=0.2,random_state=42)"
   ]
  },
  {
   "cell_type": "markdown",
   "id": "e2b85fdc",
   "metadata": {
    "papermill": {
     "duration": 0.023151,
     "end_time": "2023-09-04T16:49:10.874361",
     "exception": false,
     "start_time": "2023-09-04T16:49:10.851210",
     "status": "completed"
    },
    "tags": []
   },
   "source": [
    "<h3>Calculate sentiment scores using TextBlob"
   ]
  },
  {
   "cell_type": "markdown",
   "id": "df961d23",
   "metadata": {
    "papermill": {
     "duration": 0.020613,
     "end_time": "2023-09-04T16:49:10.916043",
     "exception": false,
     "start_time": "2023-09-04T16:49:10.895430",
     "status": "completed"
    },
    "tags": []
   },
   "source": [
    ">The code's primary purpose is to perform sentiment analysis on text reviews. It uses the TextBlob library, which is a simple tool for extracting sentiment information from text data. The sentiment score represents the polarity of sentiment, with positive scores indicating positive sentiment, negative scores indicating negative sentiment, and scores close to zero indicating neutral sentiment."
   ]
  },
  {
   "cell_type": "code",
   "execution_count": 23,
   "id": "a52308d2",
   "metadata": {
    "execution": {
     "iopub.execute_input": "2023-09-04T16:49:10.958701Z",
     "iopub.status.busy": "2023-09-04T16:49:10.958230Z",
     "iopub.status.idle": "2023-09-04T16:50:08.907964Z",
     "shell.execute_reply": "2023-09-04T16:50:08.906777Z"
    },
    "papermill": {
     "duration": 57.995346,
     "end_time": "2023-09-04T16:50:08.931623",
     "exception": false,
     "start_time": "2023-09-04T16:49:10.936277",
     "status": "completed"
    },
    "tags": []
   },
   "outputs": [
    {
     "name": "stdout",
     "output_type": "stream",
     "text": [
      "0         0.250000\n",
      "1         0.000000\n",
      "2         0.500000\n",
      "3         0.284091\n",
      "4        -0.062500\n",
      "            ...   \n",
      "162753    0.712500\n",
      "162754    0.125000\n",
      "162755    0.220000\n",
      "162756    0.216667\n",
      "162757    0.000000\n",
      "Name: Sentiment_Score, Length: 162758, dtype: float64\n"
     ]
    }
   ],
   "source": [
    "# Calculate sentiment scores using TextBlob\n",
    "def calculate_sentiment(review):\n",
    "    blob = TextBlob(review)\n",
    "    sentiment_score = blob.sentiment.polarity\n",
    "    return sentiment_score\n",
    "\n",
    "train_df['Sentiment_Score'] = x.apply(calculate_sentiment)\n",
    "\n",
    "print(train_df['Sentiment_Score'])"
   ]
  },
  {
   "cell_type": "markdown",
   "id": "65583176",
   "metadata": {
    "papermill": {
     "duration": 0.020788,
     "end_time": "2023-09-04T16:50:08.973661",
     "exception": false,
     "start_time": "2023-09-04T16:50:08.952873",
     "status": "completed"
    },
    "tags": []
   },
   "source": [
    "<h3>Calculating the Interquartile Range (IQR)"
   ]
  },
  {
   "cell_type": "code",
   "execution_count": 24,
   "id": "1e34c4fd",
   "metadata": {
    "execution": {
     "iopub.execute_input": "2023-09-04T16:50:09.018828Z",
     "iopub.status.busy": "2023-09-04T16:50:09.018363Z",
     "iopub.status.idle": "2023-09-04T16:50:09.660642Z",
     "shell.execute_reply": "2023-09-04T16:50:09.659768Z"
    },
    "papermill": {
     "duration": 0.668183,
     "end_time": "2023-09-04T16:50:09.662934",
     "exception": false,
     "start_time": "2023-09-04T16:50:08.994751",
     "status": "completed"
    },
    "tags": []
   },
   "outputs": [
    {
     "data": {
      "image/png": "[encoded data removed]",
      "text/plain": [
       "<Figure size 1000x1000 with 1 Axes>"
      ]
     },
     "metadata": {},
     "output_type": "display_data"
    }
   ],
   "source": [
    "# Calculating the Interquartile Range (IQR)\n",
    "Q1 = train_df['Sentiment_Score'].quantile(0.25)\n",
    "Q3 = train_df['Sentiment_Score'].quantile(0.75)\n",
    "IQR = Q3 - Q1\n",
    "\n",
    "# Doutlier boundaries\n",
    "lower_bound = Q1 - 1.5 * IQR\n",
    "upper_bound = Q3 + 1.5 * IQR\n",
    "\n",
    "# Finding outliers\n",
    "outliers = train_df[(train_df['Sentiment_Score'] < lower_bound) | (train_df['Sentiment_Score'] > upper_bound)]\n",
    "\n",
    "# Setting up the plot\n",
    "plt.figure(figsize=(10, 10))\n",
    "sns.set(style=\"whitegrid\")\n",
    "\n",
    "# Creating a box plot to visualize outliers\n",
    "sns.boxplot(x=train_df['Sentiment_Score'])\n",
    "\n",
    "# Highlighting outliers\n",
    "sns.scatterplot(x=outliers.index, y=outliers['Sentiment_Score'], color='blue', marker='o', label='Outliers')\n",
    "\n",
    "# Adding labels and title\n",
    "plt.xlabel(\"Movie\")\n",
    "plt.ylabel(\"Sentiment Score\")\n",
    "plt.title(\"Outliers in Sentiment Prediction of Movies\")\n",
    "\n",
    "# Showing the plot\n",
    "plt.legend()\n",
    "plt.show()"
   ]
  },
  {
   "cell_type": "markdown",
   "id": "85a330bc",
   "metadata": {
    "papermill": {
     "duration": 0.022996,
     "end_time": "2023-09-04T16:50:09.710237",
     "exception": false,
     "start_time": "2023-09-04T16:50:09.687241",
     "status": "completed"
    },
    "tags": []
   },
   "source": [
    "<h3>Counting the number of each sentiment"
   ]
  },
  {
   "cell_type": "code",
   "execution_count": 25,
   "id": "5e4c36e3",
   "metadata": {
    "execution": {
     "iopub.execute_input": "2023-09-04T16:50:09.760029Z",
     "iopub.status.busy": "2023-09-04T16:50:09.759520Z",
     "iopub.status.idle": "2023-09-04T16:50:10.076230Z",
     "shell.execute_reply": "2023-09-04T16:50:10.074803Z"
    },
    "papermill": {
     "duration": 0.344953,
     "end_time": "2023-09-04T16:50:10.078917",
     "exception": false,
     "start_time": "2023-09-04T16:50:09.733964",
     "status": "completed"
    },
    "tags": []
   },
   "outputs": [
    {
     "name": "stdout",
     "output_type": "stream",
     "text": [
      "POSITIVE    108761\n",
      "NEGATIVE     53997\n",
      "Name: sentiment, dtype: int64\n"
     ]
    },
    {
     "data": {
      "image/png": "[encoded data removed]",
      "text/plain": [
       "<Figure size 800x600 with 1 Axes>"
      ]
     },
     "metadata": {},
     "output_type": "display_data"
    }
   ],
   "source": [
    "# Counting the number of each sentiment\n",
    "sentiment_counts = y.value_counts()\n",
    "print(sentiment_counts)\n",
    "\n",
    "# Setting up the plot\n",
    "plt.figure(figsize=(8, 6))\n",
    "sns.set(style=\"whitegrid\")\n",
    "sns.barplot(x=sentiment_counts.index, y=sentiment_counts.values, palette=\"pastel\")\n",
    "\n",
    "# Adding labels and title\n",
    "plt.xlabel(\"Sentiment\")\n",
    "plt.ylabel(\"Count\")\n",
    "plt.title(\"Sentiment Distribution of Movie Reviews\")\n",
    "\n",
    "# Showing the plot\n",
    "plt.show()"
   ]
  },
  {
   "cell_type": "markdown",
   "id": "d956418a",
   "metadata": {
    "papermill": {
     "duration": 0.023751,
     "end_time": "2023-09-04T16:50:10.127595",
     "exception": false,
     "start_time": "2023-09-04T16:50:10.103844",
     "status": "completed"
    },
    "tags": []
   },
   "source": [
    "<h2>Model 4"
   ]
  },
  {
   "cell_type": "markdown",
   "id": "baf44852",
   "metadata": {
    "papermill": {
     "duration": 0.023555,
     "end_time": "2023-09-04T16:50:10.175133",
     "exception": false,
     "start_time": "2023-09-04T16:50:10.151578",
     "status": "completed"
    },
    "tags": []
   },
   "source": [
    ">The code essentially trains two different machine learning models (Random Forest and XGBoost) on TF-IDF vectorized text data and combines their predictions through majority voting to create an ensemble model. The ensemble's accuracy is then calculated as a measure of its performance."
   ]
  },
  {
   "cell_type": "markdown",
   "id": "c9380fdc",
   "metadata": {
    "papermill": {
     "duration": 0.02332,
     "end_time": "2023-09-04T16:50:10.222283",
     "exception": false,
     "start_time": "2023-09-04T16:50:10.198963",
     "status": "completed"
    },
    "tags": []
   },
   "source": [
    "This code emphasizes creating an ensemble from two models and evaluating their combined performance,"
   ]
  },
  {
   "cell_type": "code",
   "execution_count": 26,
   "id": "ac73c314",
   "metadata": {
    "execution": {
     "iopub.execute_input": "2023-09-04T16:50:10.273025Z",
     "iopub.status.busy": "2023-09-04T16:50:10.272050Z",
     "iopub.status.idle": "2023-09-04T16:50:10.283047Z",
     "shell.execute_reply": "2023-09-04T16:50:10.281811Z"
    },
    "papermill": {
     "duration": 0.039917,
     "end_time": "2023-09-04T16:50:10.285903",
     "exception": false,
     "start_time": "2023-09-04T16:50:10.245986",
     "status": "completed"
    },
    "tags": []
   },
   "outputs": [
    {
     "data": {
      "text/plain": [
       "'\\n# Loading and preprocessing data\\ndata = pd.read_csv(\\'/kaggle/input/sentiment-prediction-on-movie-reviews/train.csv\\')\\ndata = data.dropna(subset=[\\'sentiment\\'])  # Drop rows with missing sentiment values\\n\\ny_str = data[\\'sentiment\\']\\n\\n# Maping string labels to numeric labels\\nlabel_map = {\\'NEGATIVE\\': 0, \\'POSITIVE\\': 1}\\ny = y_str.map(label_map)\\n\\nX_train, X_test, y_train, y_test = train_test_split(x, y, test_size=0.2, random_state=42)\\n\\n# Creating a TF-IDF vectorizer\\nvectorizer = TfidfVectorizer(max_features=5000)\\nX_train_tfidf = vectorizer.fit_transform(X_train)\\nX_test_tfidf = vectorizer.transform(X_test)\\n\\n\\n# Creating a Random Forest classifier with regularization\\nrf_classifier = RandomForestClassifier(\\n    n_estimators=500,\\n    max_depth=10,\\n    random_state=42\\n)\\n\\nrf_classifier.fit(X_train_tfidf, y_train)\\n\\n# Creating a XGBoost classifier with regularization\\nxgb_classifier = xgb.XGBClassifier(\\n    n_estimators=1000,\\n    max_depth=3,\\n    learning_rate=0.5,\\n    reg_alpha=0.1,  # L1 regularization term\\n    reg_lambda=0.1,  # L2 regularization term\\n    random_state=42\\n)\\n\\nxgb_classifier.fit(X_train_tfidf, y_train)\\n\\n# Predict on the test set using both models\\ny_pred_rf = rf_classifier.predict(X_test_tfidf)\\ny_pred_xgb = xgb_classifier.predict(X_test_tfidf)\\n\\n# Ensemble predictions using a simple majority vote\\ny_pred_ensemble = (y_pred_rf + y_pred_xgb) // 2\\n\\n# Evaluate the ensemble model using accuracy\\naccuracy = accuracy_score(y_test, y_pred_ensemble)\\nprint(\"Ensemble Accuracy: \",accuracy)\\n'"
      ]
     },
     "execution_count": 26,
     "metadata": {},
     "output_type": "execute_result"
    }
   ],
   "source": [
    "'''\n",
    "# Loading and preprocessing data\n",
    "data = pd.read_csv('/kaggle/input/sentiment-prediction-on-movie-reviews/train.csv')\n",
    "data = data.dropna(subset=['sentiment'])  # Drop rows with missing sentiment values\n",
    "\n",
    "y_str = data['sentiment']\n",
    "\n",
    "# Maping string labels to numeric labels\n",
    "label_map = {'NEGATIVE': 0, 'POSITIVE': 1}\n",
    "y = y_str.map(label_map)\n",
    "\n",
    "X_train, X_test, y_train, y_test = train_test_split(x, y, test_size=0.2, random_state=42)\n",
    "\n",
    "# Creating a TF-IDF vectorizer\n",
    "vectorizer = TfidfVectorizer(max_features=5000)\n",
    "X_train_tfidf = vectorizer.fit_transform(X_train)\n",
    "X_test_tfidf = vectorizer.transform(X_test)\n",
    "\n",
    "\n",
    "# Creating a Random Forest classifier with regularization\n",
    "rf_classifier = RandomForestClassifier(\n",
    "    n_estimators=500,\n",
    "    max_depth=10,\n",
    "    random_state=42\n",
    ")\n",
    "\n",
    "rf_classifier.fit(X_train_tfidf, y_train)\n",
    "\n",
    "# Creating a XGBoost classifier with regularization\n",
    "xgb_classifier = xgb.XGBClassifier(\n",
    "    n_estimators=1000,\n",
    "    max_depth=3,\n",
    "    learning_rate=0.5,\n",
    "    reg_alpha=0.1,  # L1 regularization term\n",
    "    reg_lambda=0.1,  # L2 regularization term\n",
    "    random_state=42\n",
    ")\n",
    "\n",
    "xgb_classifier.fit(X_train_tfidf, y_train)\n",
    "\n",
    "# Predict on the test set using both models\n",
    "y_pred_rf = rf_classifier.predict(X_test_tfidf)\n",
    "y_pred_xgb = xgb_classifier.predict(X_test_tfidf)\n",
    "\n",
    "# Ensemble predictions using a simple majority vote\n",
    "y_pred_ensemble = (y_pred_rf + y_pred_xgb) // 2\n",
    "\n",
    "# Evaluate the ensemble model using accuracy\n",
    "accuracy = accuracy_score(y_test, y_pred_ensemble)\n",
    "print(\"Ensemble Accuracy: \",accuracy)\n",
    "'''\n",
    "#OUTPUT\n",
    "#Ensemble Accuracy:  0.7681555664782502"
   ]
  },
  {
   "cell_type": "markdown",
   "id": "046ff327",
   "metadata": {
    "papermill": {
     "duration": 0.024,
     "end_time": "2023-09-04T16:50:10.334330",
     "exception": false,
     "start_time": "2023-09-04T16:50:10.310330",
     "status": "completed"
    },
    "tags": []
   },
   "source": [
    "<h2>Model 3"
   ]
  },
  {
   "cell_type": "markdown",
   "id": "a150b620",
   "metadata": {
    "papermill": {
     "duration": 0.024435,
     "end_time": "2023-09-04T16:50:10.382942",
     "exception": false,
     "start_time": "2023-09-04T16:50:10.358507",
     "status": "completed"
    },
    "tags": []
   },
   "source": [
    ">This code is a comprehensive example of text classification using two different machine learning algorithms, Random Forest and XGBoost, with cross-validation to estimate model performance. The models are trained on TF-IDF vectors, and their accuracy is evaluated on a test dataset. The cross-validation step provides an estimate of how well the models generalize to new data, and the test accuracy measures their performance on unseen data."
   ]
  },
  {
   "cell_type": "markdown",
   "id": "af5e81fe",
   "metadata": {
    "papermill": {
     "duration": 0.023707,
     "end_time": "2023-09-04T16:50:10.430798",
     "exception": false,
     "start_time": "2023-09-04T16:50:10.407091",
     "status": "completed"
    },
    "tags": []
   },
   "source": [
    "This code focuses on individual model training, hyperparameter tuning, and cross-validation."
   ]
  },
  {
   "cell_type": "code",
   "execution_count": 27,
   "id": "b20c3eaf",
   "metadata": {
    "execution": {
     "iopub.execute_input": "2023-09-04T16:50:10.481625Z",
     "iopub.status.busy": "2023-09-04T16:50:10.480765Z",
     "iopub.status.idle": "2023-09-04T16:50:10.490638Z",
     "shell.execute_reply": "2023-09-04T16:50:10.489491Z"
    },
    "papermill": {
     "duration": 0.038213,
     "end_time": "2023-09-04T16:50:10.493114",
     "exception": false,
     "start_time": "2023-09-04T16:50:10.454901",
     "status": "completed"
    },
    "tags": []
   },
   "outputs": [
    {
     "data": {
      "text/plain": [
       "'\\n\\n# Creating a TF-IDF vectorizer\\nvectorizer = TfidfVectorizer(max_features=5000)\\nX_train_tfidf = vectorizer.fit_transform(X_train)\\nX_test_tfidf = vectorizer.transform(X_test)\\n\\n# Creating Random Forest classifier with cross-validation\\nrf_classifier = RandomForestClassifier(n_estimators=500, random_state=42)\\nrf_cv_scores = cross_val_score(rf_classifier, X_train_tfidf, y_train, cv=5, scoring=\\'accuracy\\')\\nrf_mean_cv_score = rf_cv_scores.mean()\\n\\nprint(f\"Random Forest Cross-Validation Mean Accuracy: {rf_mean_cv_score}\")\\n\\n# Creating an XGBoost classifier with regularization and cross-validation\\nxgb_classifier = xgb.XGBClassifier(\\n    n_estimators=500,\\n    max_depth=3,\\n    learning_rate=0.1,\\n    reg_alpha=0.1,\\n    reg_lambda=0.1,\\n    random_state=42\\n)\\n\\nxgb_cv_scores = cross_val_score(xgb_classifier, X_train_tfidf, y_train, cv=3, scoring=\\'accuracy\\')\\nxgb_mean_cv_score = xgb_cv_scores.mean()\\n\\nprint(f\"XGBoost Cross-Validation Mean Accuracy: {xgb_mean_cv_score}\")\\n\\n# Train both models on the full training data\\nrf_classifier.fit(X_train_tfidf, y_train)\\nxgb_classifier.fit(X_train_tfidf, y_train)\\n\\n# Predict on the test set\\ny_pred_rf = rf_classifier.predict(X_test_tfidf)\\ny_pred_xgb = xgb_classifier.predict(X_test_tfidf)\\n\\n# Evaluate models using accuracy\\naccuracy_rf = (y_pred_rf == y_test).mean()\\naccuracy_xgb = (y_pred_xgb == y_test).mean()\\n\\nprint(f\"Random Forest Test Accuracy: {accuracy_rf}\")\\nprint(f\"XGBoost Test Accuracy: {accuracy_xgb}\")\\n'"
      ]
     },
     "execution_count": 27,
     "metadata": {},
     "output_type": "execute_result"
    }
   ],
   "source": [
    "'''\n",
    "\n",
    "# Creating a TF-IDF vectorizer\n",
    "vectorizer = TfidfVectorizer(max_features=5000)\n",
    "X_train_tfidf = vectorizer.fit_transform(X_train)\n",
    "X_test_tfidf = vectorizer.transform(X_test)\n",
    "\n",
    "# Creating Random Forest classifier with cross-validation\n",
    "rf_classifier = RandomForestClassifier(n_estimators=500, random_state=42)\n",
    "rf_cv_scores = cross_val_score(rf_classifier, X_train_tfidf, y_train, cv=5, scoring='accuracy')\n",
    "rf_mean_cv_score = rf_cv_scores.mean()\n",
    "\n",
    "print(f\"Random Forest Cross-Validation Mean Accuracy: {rf_mean_cv_score}\")\n",
    "\n",
    "# Creating an XGBoost classifier with regularization and cross-validation\n",
    "xgb_classifier = xgb.XGBClassifier(\n",
    "    n_estimators=500,\n",
    "    max_depth=3,\n",
    "    learning_rate=0.1,\n",
    "    reg_alpha=0.1,\n",
    "    reg_lambda=0.1,\n",
    "    random_state=42\n",
    ")\n",
    "\n",
    "xgb_cv_scores = cross_val_score(xgb_classifier, X_train_tfidf, y_train, cv=3, scoring='accuracy')\n",
    "xgb_mean_cv_score = xgb_cv_scores.mean()\n",
    "\n",
    "print(f\"XGBoost Cross-Validation Mean Accuracy: {xgb_mean_cv_score}\")\n",
    "\n",
    "# Train both models on the full training data\n",
    "rf_classifier.fit(X_train_tfidf, y_train)\n",
    "xgb_classifier.fit(X_train_tfidf, y_train)\n",
    "\n",
    "# Predict on the test set\n",
    "y_pred_rf = rf_classifier.predict(X_test_tfidf)\n",
    "y_pred_xgb = xgb_classifier.predict(X_test_tfidf)\n",
    "\n",
    "# Evaluate models using accuracy\n",
    "accuracy_rf = (y_pred_rf == y_test).mean()\n",
    "accuracy_xgb = (y_pred_xgb == y_test).mean()\n",
    "\n",
    "print(f\"Random Forest Test Accuracy: {accuracy_rf}\")\n",
    "print(f\"XGBoost Test Accuracy: {accuracy_xgb}\")\n",
    "'''\n",
    "\n",
    "#OUTPUT\n",
    "#Random Forest Cross-Validation Mean Accuracy: 0.7439595715181682\n",
    "#XGBoost Cross-Validation Mean Accuracy: 0.7329769749473911\n",
    "#Random Forest Test Accuracy: 0.7501228803145736\n",
    "#XGBoost Test Accuracy: 0.7339333988695012"
   ]
  },
  {
   "cell_type": "markdown",
   "id": "76a0b9e5",
   "metadata": {
    "papermill": {
     "duration": 0.023961,
     "end_time": "2023-09-04T16:50:10.541339",
     "exception": false,
     "start_time": "2023-09-04T16:50:10.517378",
     "status": "completed"
    },
    "tags": []
   },
   "source": [
    "<h2>Model 2"
   ]
  },
  {
   "cell_type": "markdown",
   "id": "56a93462",
   "metadata": {
    "papermill": {
     "duration": 0.023703,
     "end_time": "2023-09-04T16:50:10.589321",
     "exception": false,
     "start_time": "2023-09-04T16:50:10.565618",
     "status": "completed"
    },
    "tags": []
   },
   "source": [
    ">This code demonstrates a complete workflow for text classification, including data preprocessing, model selection, hyperparameter tuning, and evaluation. The goal is to build an accurate sentiment classification model using logistic regression with the best hyperparameters found through grid search."
   ]
  },
  {
   "cell_type": "code",
   "execution_count": 28,
   "id": "2e29f398",
   "metadata": {
    "execution": {
     "iopub.execute_input": "2023-09-04T16:50:10.641236Z",
     "iopub.status.busy": "2023-09-04T16:50:10.640349Z",
     "iopub.status.idle": "2023-09-04T16:53:30.464875Z",
     "shell.execute_reply": "2023-09-04T16:53:30.463253Z"
    },
    "papermill": {
     "duration": 199.878111,
     "end_time": "2023-09-04T16:53:30.492319",
     "exception": false,
     "start_time": "2023-09-04T16:50:10.614208",
     "status": "completed"
    },
    "tags": []
   },
   "outputs": [
    {
     "name": "stdout",
     "output_type": "stream",
     "text": [
      "Fitting 3 folds for each of 9 candidates, totalling 27 fits\n",
      "[CV] END ......classifier__C=0.1, classifier__max_iter=10000; total time=   5.7s\n",
      "[CV] END ......classifier__C=0.1, classifier__max_iter=10000; total time=   5.7s\n",
      "[CV] END ......classifier__C=0.1, classifier__max_iter=10000; total time=   5.4s\n",
      "[CV] END ......classifier__C=0.1, classifier__max_iter=20000; total time=   5.7s\n",
      "[CV] END ......classifier__C=0.1, classifier__max_iter=20000; total time=   5.7s\n",
      "[CV] END ......classifier__C=0.1, classifier__max_iter=20000; total time=   5.4s\n",
      "[CV] END ......classifier__C=0.1, classifier__max_iter=30000; total time=   5.5s\n",
      "[CV] END ......classifier__C=0.1, classifier__max_iter=30000; total time=   5.9s\n",
      "[CV] END ......classifier__C=0.1, classifier__max_iter=30000; total time=   5.4s\n",
      "[CV] END ......classifier__C=1.0, classifier__max_iter=10000; total time=   6.7s\n",
      "[CV] END ......classifier__C=1.0, classifier__max_iter=10000; total time=   7.0s\n",
      "[CV] END ......classifier__C=1.0, classifier__max_iter=10000; total time=   6.4s\n",
      "[CV] END ......classifier__C=1.0, classifier__max_iter=20000; total time=   6.7s\n",
      "[CV] END ......classifier__C=1.0, classifier__max_iter=20000; total time=   7.1s\n",
      "[CV] END ......classifier__C=1.0, classifier__max_iter=20000; total time=   6.3s\n",
      "[CV] END ......classifier__C=1.0, classifier__max_iter=30000; total time=   6.7s\n",
      "[CV] END ......classifier__C=1.0, classifier__max_iter=30000; total time=   7.0s\n",
      "[CV] END ......classifier__C=1.0, classifier__max_iter=30000; total time=   6.4s\n",
      "[CV] END .....classifier__C=10.0, classifier__max_iter=10000; total time=   9.0s\n",
      "[CV] END .....classifier__C=10.0, classifier__max_iter=10000; total time=   8.8s\n",
      "[CV] END .....classifier__C=10.0, classifier__max_iter=10000; total time=   8.7s\n",
      "[CV] END .....classifier__C=10.0, classifier__max_iter=20000; total time=   8.8s\n",
      "[CV] END .....classifier__C=10.0, classifier__max_iter=20000; total time=   8.8s\n",
      "[CV] END .....classifier__C=10.0, classifier__max_iter=20000; total time=   8.7s\n",
      "[CV] END .....classifier__C=10.0, classifier__max_iter=30000; total time=   8.8s\n",
      "[CV] END .....classifier__C=10.0, classifier__max_iter=30000; total time=   9.0s\n",
      "[CV] END .....classifier__C=10.0, classifier__max_iter=30000; total time=   9.0s\n",
      "Accuracy: 0.7850823298107643\n",
      "Best Hyperparameters: {'classifier__C': 1.0, 'classifier__max_iter': 10000}\n"
     ]
    }
   ],
   "source": [
    "\n",
    "# Since dataset has two columns: 'reviewText' and 'sentiment' (NEGATIVE and POSITIVE)\n",
    "x=train_df['reviewText']\n",
    "y_str=train_df['sentiment']\n",
    "\n",
    "# Mapping string labels to numeric labels\n",
    "label_map = {'NEGATIVE': 0, 'POSITIVE': 1}\n",
    "y = y_str.map(label_map)\n",
    "\n",
    "# Splitting the dataset into training and testing sets\n",
    "X_train, X_test, y_train, y_test = train_test_split(x, y, test_size=0.2, random_state=42)\n",
    "\n",
    "# Creating a pipeline with TF-IDF vectorizer and Logistic Regression classifier\n",
    "pipeline = Pipeline([\n",
    "    ('vectorizer', TfidfVectorizer(max_features=5000)),\n",
    "    ('classifier', LogisticRegression())\n",
    "])\n",
    "\n",
    "# Hyperparameters for Logistic Regression\n",
    "param_grid = {\n",
    "    'classifier__C': [0.1, 1.0, 10.0],\n",
    "    'classifier__max_iter': [10000 , 20000, 30000]\n",
    "}\n",
    "\n",
    "# GridSearchCV for hyperparameter tuning using accuracy as the scoring metric\n",
    "grid_search = GridSearchCV(pipeline, param_grid, cv=3, scoring='accuracy', verbose=2)\n",
    "grid_search.fit(X_train, y_train)\n",
    "\n",
    "# Getting the best Logistic Regression model\n",
    "best_model = grid_search.best_estimator_\n",
    "\n",
    "# Predict on the test set\n",
    "y_pred = best_model.predict(X_test)\n",
    "\n",
    "# Evaluate the model using accuracy\n",
    "accuracy = accuracy_score(y_test, y_pred)\n",
    "print(f\"Accuracy: {accuracy}\")\n",
    "\n",
    "# Display the best hyperparameters\n",
    "print(\"Best Hyperparameters:\", grid_search.best_params_)\n"
   ]
  },
  {
   "cell_type": "markdown",
   "id": "4104fcdb",
   "metadata": {
    "papermill": {
     "duration": 0.026225,
     "end_time": "2023-09-04T16:53:30.544554",
     "exception": false,
     "start_time": "2023-09-04T16:53:30.518329",
     "status": "completed"
    },
    "tags": []
   },
   "source": [
    "<h2>Model 1"
   ]
  },
  {
   "cell_type": "markdown",
   "id": "e5460942",
   "metadata": {
    "papermill": {
     "duration": 0.02642,
     "end_time": "2023-09-04T16:53:30.598008",
     "exception": false,
     "start_time": "2023-09-04T16:53:30.571588",
     "status": "completed"
    },
    "tags": []
   },
   "source": [
    ">This code essentially trains a logistic regression model on the TF-IDF vectorized training data, evaluates its accuracy on the test set, and generates predictions for sentiment labels on a separate test dataset. The predictions are saved in a submission CSV file for further use or submission in a competition."
   ]
  },
  {
   "cell_type": "code",
   "execution_count": 29,
   "id": "a781212b",
   "metadata": {
    "execution": {
     "iopub.execute_input": "2023-09-04T16:53:30.653418Z",
     "iopub.status.busy": "2023-09-04T16:53:30.652907Z",
     "iopub.status.idle": "2023-09-04T16:54:05.336177Z",
     "shell.execute_reply": "2023-09-04T16:54:05.334995Z"
    },
    "papermill": {
     "duration": 34.713788,
     "end_time": "2023-09-04T16:54:05.338626",
     "exception": false,
     "start_time": "2023-09-04T16:53:30.624838",
     "status": "completed"
    },
    "tags": []
   },
   "outputs": [
    {
     "name": "stdout",
     "output_type": "stream",
     "text": [
      "Accuracy: 0.7973396411894814\n",
      "Shape of submission.csv:- (55315, 2)\n"
     ]
    }
   ],
   "source": [
    "# Loading the movie reviews dataset\n",
    "df = pd.read_csv(train_data_url)\n",
    "\n",
    "# Creating a TF-IDF vectorizer\n",
    "vectorizer = TfidfVectorizer()\n",
    "\n",
    "# Fitting the vectorizer to the train set\n",
    "vectorizer.fit(X_train)\n",
    "\n",
    "# Transform the train and test sets\n",
    "X_train_vectorized = vectorizer.transform(X_train)\n",
    "X_test_vectorized = vectorizer.transform(X_test)\n",
    "\n",
    "# Creating a logistic regression classifier\n",
    "classifier = LogisticRegression(solver='lbfgs', max_iter=1000)\n",
    "\n",
    "# Fitting the classifier to the train set\n",
    "classifier.fit(X_train_vectorized, y_train)\n",
    "\n",
    "# Predict the sentiment of the test set\n",
    "y_pred = classifier.predict(X_test_vectorized)\n",
    "\n",
    "# Calculate the accuracy of the classifier\n",
    "accuracy = np.mean(y_pred == y_test)\n",
    "\n",
    "print(\"Accuracy:\", accuracy)\n",
    "test_df=test_data.drop(['movieid','reviewerName','isTopCritic'],axis=1)\n",
    "test_df['reviewText']=test_df['reviewText'].fillna('')\n",
    "X_test_vec=vectorizer.transform(test_df['reviewText'])\n",
    "test_predictions=classifier.predict(X_test_vec)\n",
    "\n",
    "submission=pd.DataFrame(columns=['id','sentiment'])\n",
    "submission['id']=[i for i in range (len(test_predictions))]\n",
    "submission['sentiment']=test_predictions\n",
    "print(\"Shape of submission.csv:-\",submission.shape)\n",
    "submission.to_csv('submission.csv',index=False)\n"
   ]
  },
  {
   "cell_type": "markdown",
   "id": "3f4730c1",
   "metadata": {
    "papermill": {
     "duration": 0.026964,
     "end_time": "2023-09-04T16:54:05.392357",
     "exception": false,
     "start_time": "2023-09-04T16:54:05.365393",
     "status": "completed"
    },
    "tags": []
   },
   "source": [
    "<h3><u>Conclusion</u></h3>\n",
    "In terms of accuracy,\n",
    "Model 1 <b>></b> Model 2 <b>></b> Model 4 <b>></b> Model 3"
   ]
  }
 ],
 "kernelspec": {
  "display_name": "Python 3",
  "language": "python",
  "name": "python3"
 },
 "language_info": {
  "codemirror_mode": {
   "name": "ipython",
   "version": 3
  },
  "file_extension": ".py",
  "mimetype": "text/x-python",
  "name": "python",
  "nbconvert_exporter": "python",
  "pygments_lexer": "ipython3",
  "version": "3.6.4"
 },
 "metadata": {
  "kernelspec": {
   "display_name": "Python 3",
   "language": "python",
   "name": "python3"
  },
  "language_info": {
   "codemirror_mode": {
    "name": "ipython",
    "version": 3
   },
   "file_extension": ".py",
   "mimetype": "text/x-python",
   "name": "python",
   "nbconvert_exporter": "python",
   "pygments_lexer": "ipython3",
   "version": "3.10.10"
  },
  "papermill": {
   "default_parameters": {},
   "duration": 319.130164,
   "end_time": "2023-09-04T16:54:06.745394",
   "environment_variables": {},
   "exception": null,
   "input_path": "__notebook__.ipynb",
   "output_path": "__notebook__.ipynb",
   "parameters": {},
   "start_time": "2023-09-04T16:48:47.615230",
   "version": "2.4.0"
  }
 },
 "nbformat": 4,
 "nbformat_minor": 5
}
